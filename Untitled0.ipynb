{
 "metadata": {
  "name": "",
  "signature": "sha256:10257181c87c09c52f83c8b44a875555c836bccfa19a78d179612760ff3a65b7"
 },
 "nbformat": 3,
 "nbformat_minor": 0,
 "worksheets": [
  {
   "cells": [
    {
     "cell_type": "code",
     "collapsed": false,
     "input": [
      "import seaborn as sns\n",
      "import pandas as pd\n",
      "import numpy as np\n",
      "import matplotlib.pyplot as plt\n",
      "plt.style.use('ggplot')\n",
      "%matplotlib inline\n",
      "\n",
      "df = pd.read_csv('AppleStore.csv')\n",
      "\n",
      "print(df.head())"
     ],
     "language": "python",
     "metadata": {},
     "outputs": [
      {
       "output_type": "stream",
       "stream": "stdout",
       "text": [
        "   Unnamed: 0         id                                         track_name  \\\n",
        "0           1  281656475                                    PAC-MAN Premium   \n",
        "1           2  281796108                          Evernote - stay organized   \n",
        "2           3  281940292    WeatherBug - Local Weather, Radar, Maps, Alerts   \n",
        "3           4  282614216  eBay: Best App to Buy, Sell, Save! Online Shop...   \n",
        "4           5  282935706                                              Bible   \n",
        "\n",
        "   size_bytes currency  price  rating_count_tot  rating_count_ver  \\\n",
        "0   100788224      USD   3.99             21292                26   \n",
        "1   158578688      USD   0.00            161065                26   \n",
        "2   100524032      USD   0.00            188583              2822   \n",
        "3   128512000      USD   0.00            262241               649   \n",
        "4    92774400      USD   0.00            985920              5320   \n",
        "\n",
        "   user_rating  user_rating_ver     ver cont_rating   prime_genre  \\\n",
        "0          4.0              4.5   6.3.5          4+         Games   \n",
        "1          4.0              3.5   8.2.2          4+  Productivity   \n",
        "2          3.5              4.5   5.0.0          4+       Weather   \n",
        "3          4.0              4.5  5.10.0         12+      Shopping   \n",
        "4          4.5              5.0   7.5.1          4+     Reference   \n",
        "\n",
        "   sup_devices.num  ipadSc_urls.num  lang.num  vpp_lic  \n",
        "0               38                5        10        1  \n",
        "1               37                5        23        1  \n",
        "2               37                5         3        1  \n",
        "3               37                5         9        1  \n",
        "4               37                5        45        1  \n"
       ]
      }
     ],
     "prompt_number": 166
    },
    {
     "cell_type": "code",
     "collapsed": false,
     "input": [
      "print(df.describe())"
     ],
     "language": "python",
     "metadata": {},
     "outputs": [
      {
       "output_type": "stream",
       "stream": "stdout",
       "text": [
        "         Unnamed: 0            id    size_bytes        price  \\\n",
        "count   7197.000000  7.197000e+03  7.197000e+03  7197.000000   \n",
        "mean    4759.069612  8.631310e+08  1.991345e+08     1.726218   \n",
        "std     3093.625213  2.712368e+08  3.592069e+08     5.833006   \n",
        "min        1.000000  2.816565e+08  5.898240e+05     0.000000   \n",
        "25%     2090.000000  6.000937e+08  4.692275e+07     0.000000   \n",
        "50%     4380.000000  9.781482e+08  9.715302e+07     0.000000   \n",
        "75%     7223.000000  1.082310e+09  1.819249e+08     1.990000   \n",
        "max    11097.000000  1.188376e+09  4.025970e+09   299.990000   \n",
        "\n",
        "       rating_count_tot  rating_count_ver  user_rating  user_rating_ver  \\\n",
        "count       7197.000000       7197.000000  7197.000000      7197.000000   \n",
        "mean       12892.907184        460.373906     3.526956         3.253578   \n",
        "std        75739.408675       3920.455183     1.517948         1.809363   \n",
        "min            0.000000          0.000000     0.000000         0.000000   \n",
        "25%           28.000000          1.000000     3.500000         2.500000   \n",
        "50%          300.000000         23.000000     4.000000         4.000000   \n",
        "75%         2793.000000        140.000000     4.500000         4.500000   \n",
        "max      2974676.000000     177050.000000     5.000000         5.000000   \n",
        "\n",
        "       sup_devices.num  ipadSc_urls.num     lang.num      vpp_lic  \n",
        "count      7197.000000      7197.000000  7197.000000  7197.000000  \n",
        "mean         37.361817         3.707100     5.434903     0.993053  \n",
        "std           3.737715         1.986005     7.919593     0.083066  \n",
        "min           9.000000         0.000000     0.000000     0.000000  \n",
        "25%          37.000000         3.000000     1.000000     1.000000  \n",
        "50%          37.000000         5.000000     1.000000     1.000000  \n",
        "75%          38.000000         5.000000     8.000000     1.000000  \n",
        "max          47.000000         5.000000    75.000000     1.000000  \n"
       ]
      }
     ],
     "prompt_number": 167
    },
    {
     "cell_type": "code",
     "collapsed": false,
     "input": [
      "# let's count the prime genre\n",
      "genre = df['prime_genre'].tolist()\n",
      "\n",
      "wordcount = dict((x,0) for x in genre)\n",
      "for w in genre:\n",
      "    if w in wordcount:\n",
      "        wordcount[w] += 1\n",
      "# print\n",
      "print(wordcount)\n",
      "print(type(wordcount))\n",
      "\n",
      "\n",
      "df_genre2 = pd.DataFrame(list(wordcount.iteritems()),columns=['Genre','Count'])\n",
      "df_genre2 = df_genre2.sort_values(by=['Count'])\n",
      "\n",
      "\n",
      "# plot\n",
      "df_genre2.plot.barh(x='Genre',y='Count',figsize=(10,8), legend=False)\n",
      "# add a suptitle\n",
      "plt.suptitle(\"Genre of app in applestore\", fontsize=18)\n",
      "# set xlabel to \"\"\n",
      "plt.xlabel(\"\")\n",
      "# change xticks fontsize to 14\n",
      "plt.yticks(fontsize=14)\n",
      "# finally show the plot\n",
      "plt.show()\n"
     ],
     "language": "python",
     "metadata": {},
     "outputs": [
      {
       "output_type": "stream",
       "stream": "stdout",
       "text": [
        "{'Productivity': 178, 'Photo & Video': 349, 'Entertainment': 535, 'Travel': 81, 'Sports': 114, 'Food & Drink': 63, 'Book': 112, 'Music': 138, 'Health & Fitness': 180, 'Finance': 104, 'Business': 57, 'Social Networking': 167, 'Utilities': 248, 'News': 75, 'Lifestyle': 144, 'Medical': 23, 'Games': 3862, 'Catalogs': 10, 'Shopping': 122, 'Navigation': 46, 'Reference': 64, 'Weather': 72, 'Education': 453}\n",
        "<type 'dict'>\n"
       ]
      },
      {
       "metadata": {},
       "output_type": "display_data",
       "png": "[encoded data removed]",
       "text": [
        "<matplotlib.figure.Figure at 0x7ff78b179950>"
       ]
      }
     ],
     "prompt_number": 168
    },
    {
     "cell_type": "code",
     "collapsed": false,
     "input": [
      "# let's check the currency to have an indication of where it is bought\n",
      "currency = df['currency'].tolist()\n",
      "\n",
      "wordcount = dict((x,0) for x in currency)\n",
      "for w in currency:\n",
      "    if w in wordcount:\n",
      "        wordcount[w] += 1\n",
      "        \n",
      "print(wordcount)\n",
      "\n",
      "# Good news we can use the price without doing any kind of conversion."
     ],
     "language": "python",
     "metadata": {},
     "outputs": [
      {
       "output_type": "stream",
       "stream": "stdout",
       "text": [
        "{'USD': 7197}\n"
       ]
      }
     ],
     "prompt_number": 169
    },
    {
     "cell_type": "code",
     "collapsed": false,
     "input": [],
     "language": "python",
     "metadata": {},
     "outputs": [],
     "prompt_number": 169
    },
    {
     "cell_type": "code",
     "collapsed": false,
     "input": [
      "# let's check the price to have an indication of where it is bought\n",
      "price = df['price'].tolist()\n",
      "\n",
      "wordcount = dict((x,0) for x in price)\n",
      "for w in price:\n",
      "    if w in wordcount:\n",
      "        wordcount[w] += 1\n",
      "\n",
      "df_genre3 = pd.DataFrame(list(wordcount.iteritems()),columns=['Price','Count'])\n",
      "df_genre3 = df_genre3.sort_values(by=['Price'])\n",
      "\n",
      "print(df_genre3)\n",
      "\n",
      "#sns.boxplot(x,orient=None, color=None, saturation=2, width=2, fliersize=5, linewidth=None, whis=1.5)"
     ],
     "language": "python",
     "metadata": {},
     "outputs": [
      {
       "output_type": "stream",
       "stream": "stdout",
       "text": [
        "     Price  Count\n",
        "0     0.00   4056\n",
        "31    0.99    728\n",
        "33    1.99    621\n",
        "35    2.99    683\n",
        "19    3.99    277\n",
        "1     4.99    394\n",
        "18    5.99     52\n",
        "32    6.99    166\n",
        "29    7.99     33\n",
        "16    8.99      9\n",
        "2     9.99     81\n",
        "4    11.99      6\n",
        "9    12.99      5\n",
        "30   13.99      6\n",
        "27   14.99     21\n",
        "7    15.99      4\n",
        "6    16.99      2\n",
        "3    17.99      3\n",
        "21   18.99      1\n",
        "28   19.99     13\n",
        "22   20.99      2\n",
        "5    21.99      1\n",
        "34   22.99      2\n",
        "8    23.99      2\n",
        "15   24.99      8\n",
        "26   27.99      2\n",
        "10   29.99      6\n",
        "17   34.99      1\n",
        "11   39.99      2\n",
        "20   47.99      1\n",
        "24   49.99      2\n",
        "14   59.99      3\n",
        "12   74.99      1\n",
        "25   99.99      1\n",
        "23  249.99      1\n",
        "13  299.99      1\n"
       ]
      },
      {
       "ename": "TypeError",
       "evalue": "float() argument must be a string or a number",
       "output_type": "pyerr",
       "traceback": [
        "\u001b[0;31m---------------------------------------------------------------------------\u001b[0m\n\u001b[0;31mTypeError\u001b[0m                                 Traceback (most recent call last)",
        "\u001b[0;32m<ipython-input-170-8a4fe34a3b0d>\u001b[0m in \u001b[0;36m<module>\u001b[0;34m()\u001b[0m\n\u001b[1;32m     13\u001b[0m \u001b[0;34m\u001b[0m\u001b[0m\n\u001b[1;32m     14\u001b[0m \u001b[0mfilter\u001b[0m \u001b[0;34m=\u001b[0m \u001b[0mdf\u001b[0m\u001b[0;34m[\u001b[0m\u001b[0;34m'price'\u001b[0m\u001b[0;34m]\u001b[0m\u001b[0;34m<\u001b[0m\u001b[0;36m20\u001b[0m\u001b[0;34m\u001b[0m\u001b[0m\n\u001b[0;32m---> 15\u001b[0;31m \u001b[0mx\u001b[0m \u001b[0;34m=\u001b[0m \u001b[0mfloat\u001b[0m\u001b[0;34m(\u001b[0m\u001b[0mdf\u001b[0m\u001b[0;34m[\u001b[0m\u001b[0mfilter\u001b[0m\u001b[0;34m]\u001b[0m\u001b[0;34m)\u001b[0m\u001b[0;34m\u001b[0m\u001b[0m\n\u001b[0m\u001b[1;32m     16\u001b[0m \u001b[0;34m\u001b[0m\u001b[0m\n\u001b[1;32m     17\u001b[0m \u001b[0msns\u001b[0m\u001b[0;34m.\u001b[0m\u001b[0mboxplot\u001b[0m\u001b[0;34m(\u001b[0m\u001b[0mx\u001b[0m\u001b[0;34m,\u001b[0m\u001b[0morient\u001b[0m\u001b[0;34m=\u001b[0m\u001b[0mNone\u001b[0m\u001b[0;34m,\u001b[0m \u001b[0mcolor\u001b[0m\u001b[0;34m=\u001b[0m\u001b[0mNone\u001b[0m\u001b[0;34m,\u001b[0m \u001b[0msaturation\u001b[0m\u001b[0;34m=\u001b[0m\u001b[0;36m2\u001b[0m\u001b[0;34m,\u001b[0m \u001b[0mwidth\u001b[0m\u001b[0;34m=\u001b[0m\u001b[0;36m2\u001b[0m\u001b[0;34m,\u001b[0m \u001b[0mfliersize\u001b[0m\u001b[0;34m=\u001b[0m\u001b[0;36m5\u001b[0m\u001b[0;34m,\u001b[0m \u001b[0mlinewidth\u001b[0m\u001b[0;34m=\u001b[0m\u001b[0mNone\u001b[0m\u001b[0;34m,\u001b[0m \u001b[0mwhis\u001b[0m\u001b[0;34m=\u001b[0m\u001b[0;36m1.5\u001b[0m\u001b[0;34m)\u001b[0m\u001b[0;34m\u001b[0m\u001b[0m\n",
        "\u001b[0;31mTypeError\u001b[0m: float() argument must be a string or a number"
       ]
      }
     ],
     "prompt_number": 170
    },
    {
     "cell_type": "code",
     "collapsed": false,
     "input": [
      "# there is not a lot of app price above 20, lets zoom under 20\n",
      "filter = df['price']<20\n",
      "df = df[filter]\n",
      "g = sns.jointplot(x=df['user_rating'], y=df['price'], data=df, kind=\"kde\", color=\"m\")\n",
      "g.plot_joint(plt.scatter, c=\"b\", s=30, linewidth=1, marker=\"+\")\n",
      "g.ax_joint.collections[0].set_alpha(0)\n",
      "g.set_axis_labels(\"user rating\", \"price\");"
     ],
     "language": "python",
     "metadata": {},
     "outputs": []
    },
    {
     "cell_type": "code",
     "collapsed": false,
     "input": [
      "# Look like price under 3 are guy a lot and getting a lot of 4 and 4.5 notation\n",
      "# Free game are the most noted of course\n",
      "\n",
      "# lets look at the average price in fonction of genre"
     ],
     "language": "python",
     "metadata": {},
     "outputs": []
    }
   ],
   "metadata": {}
  }
 ]
}