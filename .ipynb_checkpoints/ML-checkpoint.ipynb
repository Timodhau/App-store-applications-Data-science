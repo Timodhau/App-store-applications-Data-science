{
 "cells": [
  {
   "cell_type": "code",
   "execution_count": 55,
   "metadata": {},
   "outputs": [
    {
     "name": "stdout",
     "output_type": "stream",
     "text": [
      "('train score: ', 0.99714989187218162)\n",
      "('test score: ', 0.99694341212327975)\n"
     ]
    }
   ],
   "source": [
    "import numpy as np\n",
    "import pandas as pd\n",
    "plt.style.use('ggplot')\n",
    "from sklearn.preprocessing import LabelEncoder\n",
    "from sklearn.cross_validation import train_test_split  #pip install -U scikit-learn if no model_selection or from sklearn.cross_validation\n",
    "from sklearn.utils import shuffle\n",
    "from sklearn.preprocessing import LabelEncoder\n",
    "from sklearn.linear_model import LinearRegression\n",
    "from sklearn.cross_validation import cross_val_score\n",
    "\n",
    "\n",
    "\n",
    "df = pd.read_csv('AppleStore.csv')\n",
    "df = shuffle(df)\n",
    "\n",
    "Y = df['user_rating'].astype('float')\n",
    "\n",
    "\n",
    "\n",
    "\n",
    "\n",
    "var_mod = ['size_bytes','currency','price','rating_count_tot','rating_count_ver','user_rating','user_rating_ver','ver', 'cont_rating','prime_genre','sup_devices.num','lang.num']\n",
    "\n",
    "dfx = pd.DataFrame(data=df[var_mod])\n",
    "\n",
    "\n",
    "le = LabelEncoder()\n",
    "for i in var_mod:\n",
    "    dfx[i] = le.fit_transform(dfx[i])\n",
    "   \n",
    "    \n",
    "X = dfx\n",
    "    \n",
    "#X = le.fit_transform(df[var_mod])\n",
    "\n",
    "Xtrain, Xtest, Ytrain, Ytest = train_test_split(X, Y, test_size=0.33)\n",
    "\n",
    "model = LinearRegression()\n",
    "model.fit(Xtrain, Ytrain)\n",
    "print(\"train score: \", model.score(Xtrain, Ytrain))\n",
    "print(\"test score: \", model.score(Xtest, Ytest))\n",
    "\n"
   ]
  },
  {
   "cell_type": "code",
   "execution_count": null,
   "metadata": {},
   "outputs": [],
   "source": []
  },
  {
   "cell_type": "code",
   "execution_count": null,
   "metadata": {},
   "outputs": [],
   "source": []
  }
 ],
 "metadata": {
  "kernelspec": {
   "display_name": "Python 2",
   "language": "python",
   "name": "python2"
  },
  "language_info": {
   "codemirror_mode": {
    "name": "ipython",
    "version": 2
   },
   "file_extension": ".py",
   "mimetype": "text/x-python",
   "name": "python",
   "nbconvert_exporter": "python",
   "pygments_lexer": "ipython2",
   "version": "2.7.12"
  }
 },
 "nbformat": 4,
 "nbformat_minor": 2
}
